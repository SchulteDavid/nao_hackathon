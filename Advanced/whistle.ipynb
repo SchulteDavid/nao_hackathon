{
 "cells": [
  {
   "cell_type": "markdown",
   "metadata": {},
   "source": [
    "# Pfiffdetektion\n",
    "Mit dem Pfiff werden im Spiel verschieden Situationen signalisiert. Z. B. wenn ein Spiel beginnt oder nachdem ein Tor gefallen ist. Wenn der Roboter den Pfiff nicht selbst erkennt, bekommt er erst mit 15s Verzögerung ein Signal gesendet. \n",
    "\n",
    "In 15s kann der Roboter über das halbe Spielfeld laufen. Um diesen Vorteil zu nutzen, muss er den Pfiff selbständig erkennen können. Ziel dieser Aufgabenreihe ist es, mit den Daten aus den Mikrofonen der Roboter vertraut zu werden, sowie eine simple Whistledetection zu schreiben (Beginner). Danach soll mit dem Konzept der Fourier-Transformation gearbeitet werden (Intermediate) und um dann mit den Problemen der Echtzeiterkennung unter viel Noise auf dem Wettbewerb (Advanced, Daten von der letzten Weltmeisterschaft) zurechtzukommen.\n",
    "\n",
    "Aufgabe ist es, eine Whistledetection zu schreiben, die in der gegebenen Datei alle Pfiffe findet. In der Datei sind nur die Daten von einem der vier Mikrofone des Roboters. Die Daten sind aus dem Finale der GORE2022.\n",
    "Hinweis: Die Energie des Signals wird nicht mehr ausreichen, um die Pfiffe zu erkennen, da es ein lautes Publikum gibt. Hier muss man mit den Frequenzen arbeiten, wie man es in der Intermediate gelernt hat."
   ]
  },
  {
   "cell_type": "code",
   "execution_count": 1,
   "metadata": {},
   "outputs": [],
   "source": [
    "# Importieren des Moduls das Sounddaten verstehen kann\n",
    "import soundfile as sf\n",
    "\n",
    "# Lesen der Datei mit den Sounddaten\n",
    "sound_data, samplerate = sf.read('../data/audio/gameWhisltes.flac')\n",
    "\n",
    "# your code here"
   ]
  }
 ],
 "metadata": {
  "kernelspec": {
   "display_name": "Python 3 (ipykernel)",
   "language": "python",
   "name": "python3"
  },
  "language_info": {
   "codemirror_mode": {
    "name": "ipython",
    "version": 3
   },
   "file_extension": ".py",
   "mimetype": "text/x-python",
   "name": "python",
   "nbconvert_exporter": "python",
   "pygments_lexer": "ipython3",
   "version": "3.10.12"
  }
 },
 "nbformat": 4,
 "nbformat_minor": 4
}
