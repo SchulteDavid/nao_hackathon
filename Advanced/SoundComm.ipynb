{
 "cells": [
  {
   "cell_type": "markdown",
   "id": "d9aa85d4-15bf-4385-a2d4-8037340d11e1",
   "metadata": {},
   "source": [
    "# Kommunikation über Schall\n",
    "\n",
    "Noch dürfen die Roboter über das WLAN auf dem Wettbewerb kommunizieren. Das wird aber in den nächsten Jahren immer weniger werden. Wir brauchen aber eine Methode zur Kommunikation für unsere Strategie.\n",
    "\n",
    "Wir haben inzwischen eine Idee wie wir Daten über Töne senden können. Wir kodieren die Information in dei Phase eines Signals. Hier sollst du eine Methode entwickeln die diese Information aus dem Signal extrahiert.\n",
    "In `data/audio/signal_game.flac` gibt es Signale die bei uns im Labor aufgenommen wurden. Damit kann gerne rumexperimentiert werden."
   ]
  },
  {
   "cell_type": "code",
   "execution_count": null,
   "id": "8a33e3ba-86cf-43aa-a543-a2260f99f615",
   "metadata": {},
   "outputs": [],
   "source": [
    "import soundfile as sf\n",
    "\n"
   ]
  }
 ],
 "metadata": {
  "kernelspec": {
   "display_name": "Python 3 (ipykernel)",
   "language": "python",
   "name": "python3"
  },
  "language_info": {
   "codemirror_mode": {
    "name": "ipython",
    "version": 3
   },
   "file_extension": ".py",
   "mimetype": "text/x-python",
   "name": "python",
   "nbconvert_exporter": "python",
   "pygments_lexer": "ipython3",
   "version": "3.10.12"
  }
 },
 "nbformat": 4,
 "nbformat_minor": 5
}
