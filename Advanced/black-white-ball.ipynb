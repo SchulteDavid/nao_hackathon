{
 "cells": [
  {
   "cell_type": "markdown",
   "metadata": {},
   "source": [
    "# Schwarz-weißen Ball erkennen\n",
    "\n",
    "Der rote Ball war natürlich nur eine Zwischenstufe, um das große Ziel zu erreichen, 2050 Menschen gegen zu gewinnen. Deswegen spielen die Roboter seit einigen Jahren schon mit einem schwarz-weißen Fußball.\n",
    "Bilder von diesem Ball - so wie auch der Nao ihn in seiner Kamera sieht - findest du unter `images/white_ball`.\n",
    "\n",
    "Versuche ein Programm zu schreiben, das auch den schwarz-weißen Ball in solchen Bildern und später auch auf dem Roboter erkennt. Dein Programm soll dabei in den Testbildern den Ball einfärben, damit der Erfolg deiner Software leichter zu erkennen ist ;D.\n",
    "Die Position des Balls soll dabei auch ausgegeben werden, damit diese in die Firmware der Roboter integriert werden kann.\n",
    "\n",
    "Eine Möglichkeit für das Programm ist der Einsatz eines neuronalen Netzes.\n",
    "Ein Beispiel für solch ein Netz, dass nur noch nachtrainiert werden muss ist YOLOv8. Der folgende Code-Schnipsel lädt YOLOv8 herunter und trainiert es auf einem gelabelten Dataset. Die Bilder die wir haben sind aber noch nicht gelabelt. Die Datei 'dataset.yaml' enthällt eine Beschreibung des datasets.\n",
    "\n",
    "Das Programm annotate.py ist ein kleines Tool mit dem der Ball in den Bildern markiert werden kann. Führe es mit\n",
    "``` bash\n",
    "python3 annotate.py ../images/white_ball/\n",
    "```\n",
    "aus um die Bilder zu labeln. Ziehe mit der Maus ein Rechteck um den Ball und speichere das Ergebnis mit 'q'."
   ]
  },
  {
   "cell_type": "code",
   "execution_count": null,
   "metadata": {},
   "outputs": [],
   "source": [
    "from ultralytics import YOLO\n",
    "\n",
    "model = YOLO(\"yolov8n.pt\") # Load pretrained detection model\n",
    "\n",
    "\n",
    "results = model.train(data='dataset.yaml', epochs=100, imgsz=640) # Training model\n",
    "# More info at: https://docs.ultralytics.com/tasks/detect/"
   ]
  }
 ],
 "metadata": {
  "kernelspec": {
   "display_name": "Python 3 (ipykernel)",
   "language": "python",
   "name": "python3"
  },
  "language_info": {
   "codemirror_mode": {
    "name": "ipython",
    "version": 3
   },
   "file_extension": ".py",
   "mimetype": "text/x-python",
   "name": "python",
   "nbconvert_exporter": "python",
   "pygments_lexer": "ipython3",
   "version": "3.11.2"
  }
 },
 "nbformat": 4,
 "nbformat_minor": 4
}
