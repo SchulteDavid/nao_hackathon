{
 "cells": [
  {
   "cell_type": "markdown",
   "metadata": {},
   "source": [
    "# Kaputte Mikrofone\n",
    "\n",
    "Es kommt bei den Naos häufiger vor, dass Mikrofone kaputt sind. Ein Programm was das erkennt wäre sehr praktisch und würde einiges an Arbeit sparen. Hier wollen wir ein Programm haben das genau das macht.\n",
    "Es liegen Beispielaufnahmen von einem Nao in dem Ordner \"data/audio\" mit denen die Ansätze getestet werden können.\n",
    "\n",
    "Die Kanäle können wie folgt auf die Mikrofone gemapped werden\n",
    "| Kanalnummer | Mikrofon      |\n",
    "|-------------|---------------|\n",
    "| 0           | hinten-links  |\n",
    "| 1           | hinten-rechts |\n",
    "| 2           | vorne-links   |\n",
    "| 3           | vorne-rechts  |\n",
    "\n",
    "Es kann nachher auch eine Schnittstelle auf dem Nao genutzt werden um an live-Daten zu testen ob das Programm funktioniert. "
   ]
  },
  {
   "cell_type": "code",
   "execution_count": null,
   "metadata": {},
   "outputs": [],
   "source": [
    "# Importieren des Moduls das Sounddaten verstehen kann\n",
    "import soundfile as sf\n",
    "\n",
    "# Lesen der Datei mit den Sounddaten\n",
    "raw_sound_data, samplerate = sf.read('data/audio/dead_mic.flac')"
   ]
  }
 ],
 "metadata": {
  "kernelspec": {
   "display_name": "Python 3 (ipykernel)",
   "language": "python",
   "name": "python3"
  },
  "language_info": {
   "codemirror_mode": {
    "name": "ipython",
    "version": 3
   },
   "file_extension": ".py",
   "mimetype": "text/x-python",
   "name": "python",
   "nbconvert_exporter": "python",
   "pygments_lexer": "ipython3",
   "version": "3.10.12"
  }
 },
 "nbformat": 4,
 "nbformat_minor": 4
}
